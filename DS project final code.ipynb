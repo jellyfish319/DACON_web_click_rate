{
 "cells": [
  {
   "cell_type": "code",
   "execution_count": 2,
   "metadata": {},
   "outputs": [],
   "source": [
    "import pandas as pd\n",
    "import numpy as np\n",
    "import sklearn as sk\n",
    "import matplotlib.pyplot as plt\n",
    "from sklearn.model_selection import train_test_split"
   ]
  },
  {
   "cell_type": "markdown",
   "metadata": {},
   "source": [
    "# EDA"
   ]
  },
  {
   "cell_type": "code",
   "execution_count": null,
   "metadata": {},
   "outputs": [],
   "source": [
    "df = pd.read_csv(\"F:/학교/3학년/1학기/컴퓨터융합학부/데이터과학/term project/open/train.csv\")\n",
    "df = df.drop('ID',axis=1)"
   ]
  },
  {
   "cell_type": "code",
   "execution_count": null,
   "metadata": {},
   "outputs": [],
   "source": [
    "df.isnull().sum()"
   ]
  },
  {
   "cell_type": "code",
   "execution_count": null,
   "metadata": {},
   "outputs": [],
   "source": [
    "object_columns = df.select_dtypes(include=['object']).columns\n",
    "number = df.select_dtypes(include=[int, float]).columns # float, integer type columns select\n",
    "number = number.drop(\"Click\")\n",
    "df[object_columns] = df[object_columns].fillna(\"Unknown\")"
   ]
  },
  {
   "cell_type": "code",
   "execution_count": null,
   "metadata": {},
   "outputs": [],
   "source": [
    "df[object_columns] = df[object_columns].astype(\"category\")"
   ]
  },
  {
   "cell_type": "code",
   "execution_count": null,
   "metadata": {},
   "outputs": [],
   "source": [
    "def print_unique(data) :\n",
    "    object_columns = data.select_dtypes(include=['object','category']).columns\n",
    "    for col in object_columns:\n",
    "        unique_values = data[col].unique()\n",
    "        print(f\"Unique values for {col}: {len(unique_values)}\")"
   ]
  },
  {
   "cell_type": "code",
   "execution_count": null,
   "metadata": {},
   "outputs": [],
   "source": [
    "number = df.select_dtypes(include=[int, float]).columns # float, integer type columns select\n",
    "number = number[1:]\n",
    "df_num_rv = df[number].replace(\"\", pd.NA).dropna() # Missing value removing dataset"
   ]
  },
  {
   "cell_type": "code",
   "execution_count": null,
   "metadata": {},
   "outputs": [],
   "source": [
    "df.info() # 26개의 categorical, 13개의 integer형으로 구성되어있음"
   ]
  },
  {
   "cell_type": "code",
   "execution_count": null,
   "metadata": {},
   "outputs": [],
   "source": [
    "# print(df[number].isnull().sum()) # 결측치가 많기에 제거보다는 대푯값으로 대체 고려 가능\n",
    "print(\"Delete NA\",len(df.dropna())) # 결측치를 제거할 경우 976만개의 데이터가 남음"
   ]
  },
  {
   "cell_type": "code",
   "execution_count": null,
   "metadata": {},
   "outputs": [],
   "source": [
    "count = df[(df[\"F06\"] < 0) & (df[\"F06\"] != -1)].shape[0]\n",
    "print(count)"
   ]
  },
  {
   "cell_type": "markdown",
   "metadata": {},
   "source": [
    "## Box plot and Histogram"
   ]
  },
  {
   "cell_type": "code",
   "execution_count": null,
   "metadata": {},
   "outputs": [],
   "source": [
    "# box plot and histogram\n",
    "\n",
    "for i in df_num_rv.columns :\n",
    "    fig, (ax1, ax2) = plt.subplots(1, 2,figsize=(10, 5))\n",
    "    ax1.boxplot(df_num_rv[i].values)\n",
    "    ax1.set_title(f'{i} Box Plot')\n",
    "    ax1.set_xticks([], [])\n",
    "    ax2.hist(df_num_rv[i].values)\n",
    "    ax2.set_title(f'{i} Histogram')\n",
    "    ax2.set_ylabel(f'Frequency')\n",
    "    plt.show()"
   ]
  },
  {
   "cell_type": "code",
   "execution_count": null,
   "metadata": {},
   "outputs": [],
   "source": [
    "# box plot and histogram - log scale\n",
    "\n",
    "for i in df_num_rv.columns:\n",
    "    fig, (ax1, ax2) = plt.subplots(1, 2, figsize=(10, 5))\n",
    "    \n",
    "    # Box Plot\n",
    "    log_values = np.log(df_num_rv[i].values[df_num_rv[i].values != 0])\n",
    "    ax1.boxplot(log_values)\n",
    "    ax1.set_title(f'{i} Box Plot - log scale')\n",
    "    ax1.set_xticks([], [])\n",
    "    \n",
    "    # Histogram\n",
    "    data = np.where(df_num_rv[i].values == 0, np.log(1.5), np.log(df_num_rv[i].values, where=(df_num_rv[i].values != 0)))\n",
    "    ax2.hist(data)\n",
    "    ax2.set_title(f'{i} Histogram - log scale')\n",
    "    ax2.set_ylabel('Frequency')\n",
    "    \n",
    "    plt.show()"
   ]
  },
  {
   "cell_type": "code",
   "execution_count": null,
   "metadata": {},
   "outputs": [],
   "source": [
    "# box plot and histogram - log scale bins : 50\n",
    "\n",
    "for i in df_num_rv.columns:\n",
    "    fig, (ax1, ax2) = plt.subplots(1, 2, figsize=(10, 5))\n",
    "    \n",
    "    # Box Plot\n",
    "    log_values = np.log(df_num_rv[i].values[df_num_rv[i].values != 0])\n",
    "    ax1.boxplot(log_values)\n",
    "    ax1.set_title(f'{i} Box Plot - log scale')\n",
    "    ax1.set_xticks([], [])\n",
    "    \n",
    "    # Histogram\n",
    "    data = np.where(df_num_rv[i].values == 0, np.log(1.5), np.log(df_num_rv[i].values, where=(df_num_rv[i].values != 0)))\n",
    "    ax2.hist(data,bins=50)\n",
    "    ax2.set_title(f'{i} Histogram - log scale')\n",
    "    ax2.set_ylabel('Frequency')\n",
    "    \n",
    "    plt.show()"
   ]
  },
  {
   "cell_type": "code",
   "execution_count": null,
   "metadata": {},
   "outputs": [],
   "source": [
    "print_unique(df)"
   ]
  },
  {
   "cell_type": "markdown",
   "metadata": {},
   "source": [
    "# Preprocessing (NA to Medain, log transformation 수행을 한 파일을 불러옴)"
   ]
  },
  {
   "cell_type": "code",
   "execution_count": 3,
   "metadata": {},
   "outputs": [],
   "source": [
    "df = pd.read_parquet(\"train.parquet\")\n",
    "category_columns = df.select_dtypes(include=['category']).columns"
   ]
  },
  {
   "cell_type": "code",
   "execution_count": 4,
   "metadata": {},
   "outputs": [
    {
     "name": "stdout",
     "output_type": "stream",
     "text": [
      "28605391\n",
      "40\n"
     ]
    }
   ],
   "source": [
    "print(df.shape[0])\n",
    "print(df.shape[1])"
   ]
  },
  {
   "cell_type": "code",
   "execution_count": 5,
   "metadata": {},
   "outputs": [],
   "source": [
    "def print_unique(data) :\n",
    "    object_columns = data.select_dtypes(include=['object','category']).columns\n",
    "    for col in object_columns:\n",
    "        unique_values = data[col].unique()\n",
    "        print(f\"Unique values for {col}: {len(unique_values)}\")"
   ]
  },
  {
   "cell_type": "code",
   "execution_count": 10,
   "metadata": {},
   "outputs": [
    {
     "name": "stdout",
     "output_type": "stream",
     "text": [
      "Unique values for F01: 4760931\n",
      "Unique values for F02: 304405\n",
      "Unique values for F03: 64\n",
      "Unique values for F05: 5343557\n",
      "Unique values for F07: 151200\n",
      "Unique values for F08: 79\n",
      "Unique values for F09: 27551\n",
      "Unique values for F10: 1404255\n",
      "Unique values for F12: 4174064\n",
      "Unique values for F13: 1307\n",
      "Unique values for F15: 4\n",
      "Unique values for F16: 15467\n",
      "Unique values for F17: 10\n",
      "Unique values for F20: 178603\n",
      "Unique values for F21: 33\n",
      "Unique values for F22: 7187\n",
      "Unique values for F23: 950\n",
      "Unique values for F25: 10700\n",
      "Unique values for F26: 2205\n",
      "Unique values for F28: 55\n",
      "Unique values for F30: 19444\n",
      "Unique values for F31: 14\n",
      "Unique values for F34: 3165581\n",
      "Unique values for F35: 3\n",
      "Unique values for F37: 9423\n",
      "Unique values for F39: 6800\n"
     ]
    }
   ],
   "source": [
    "print_unique(df)"
   ]
  },
  {
   "cell_type": "markdown",
   "metadata": {},
   "source": [
    "# Encoding (Others)"
   ]
  },
  {
   "cell_type": "code",
   "execution_count": 3,
   "metadata": {},
   "outputs": [
    {
     "name": "stdout",
     "output_type": "stream",
     "text": [
      "<class 'pandas.core.frame.DataFrame'>\n",
      "RangeIndex: 28605391 entries, 0 to 28605390\n",
      "Data columns (total 40 columns):\n",
      " #   Column  Dtype   \n",
      "---  ------  -----   \n",
      " 0   Click   int64   \n",
      " 1   F01     category\n",
      " 2   F02     category\n",
      " 3   F03     category\n",
      " 4   F04     float64 \n",
      " 5   F05     category\n",
      " 6   F06     float64 \n",
      " 7   F07     category\n",
      " 8   F08     category\n",
      " 9   F09     category\n",
      " 10  F10     category\n",
      " 11  F11     float64 \n",
      " 12  F12     category\n",
      " 13  F13     category\n",
      " 14  F14     float64 \n",
      " 15  F15     category\n",
      " 16  F16     category\n",
      " 17  F17     category\n",
      " 18  F18     float64 \n",
      " 19  F19     float64 \n",
      " 20  F20     category\n",
      " 21  F21     category\n",
      " 22  F22     category\n",
      " 23  F23     category\n",
      " 24  F24     float64 \n",
      " 25  F25     category\n",
      " 26  F26     category\n",
      " 27  F27     float64 \n",
      " 28  F28     category\n",
      " 29  F29     float64 \n",
      " 30  F30     category\n",
      " 31  F31     category\n",
      " 32  F32     float64 \n",
      " 33  F33     float64 \n",
      " 34  F34     category\n",
      " 35  F35     category\n",
      " 36  F36     float64 \n",
      " 37  F37     category\n",
      " 38  F38     float64 \n",
      " 39  F39     category\n",
      "dtypes: category(26), float64(13), int64(1)\n",
      "memory usage: 4.2 GB\n"
     ]
    }
   ],
   "source": [
    "df_Others = df.copy()\n",
    "df_Others[category_columns] = df_Others[category_columns].astype('object')\n",
    "\n",
    "threshold = len(df)/500000\n",
    "for col in category_columns:\n",
    "    value_counts = df_Others[col].value_counts()\n",
    "    mask = df_Others[col].map(value_counts) <= threshold\n",
    "    df_Others.loc[mask, col] = 'Others'\n",
    "\n",
    "df_Others[category_columns] = df_Others[category_columns].astype('category')\n",
    "df_Others.info()"
   ]
  },
  {
   "cell_type": "code",
   "execution_count": null,
   "metadata": {},
   "outputs": [],
   "source": [
    "print_unique(df_Others)"
   ]
  },
  {
   "cell_type": "markdown",
   "metadata": {},
   "source": [
    "## XGBoost"
   ]
  },
  {
   "cell_type": "code",
   "execution_count": 23,
   "metadata": {},
   "outputs": [],
   "source": [
    "# target encoding\n",
    "import category_encoders as ce\n",
    "\n",
    "X_train_full = df_Others.drop('Click', axis=1)\n",
    "y_train_full = df_Others['Click']\n",
    "\n",
    "\n",
    "encoder = ce.TargetEncoder(cols=list(category_columns))\n",
    "X_train_full_encoded = encoder.fit_transform(X_train_full, y_train_full)"
   ]
  },
  {
   "cell_type": "code",
   "execution_count": 5,
   "metadata": {},
   "outputs": [],
   "source": [
    "# 학습 데이터와 검증 데이터로 분할\n",
    "X_train, X_val, y_train, y_val = train_test_split(X_train_full_encoded, y_train_full, test_size=0.3, random_state=2024)"
   ]
  },
  {
   "cell_type": "code",
   "execution_count": 6,
   "metadata": {},
   "outputs": [],
   "source": [
    "del X_train_full, y_train_full, X_train_full_encoded"
   ]
  },
  {
   "cell_type": "code",
   "execution_count": 7,
   "metadata": {},
   "outputs": [],
   "source": [
    "import xgboost as xgb\n",
    "from sklearn.metrics import accuracy_score\n",
    "\n",
    "dtrain = xgb.DMatrix(X_train, label=y_train)\n",
    "dval = xgb.DMatrix(X_val, label=y_val)"
   ]
  },
  {
   "cell_type": "code",
   "execution_count": 15,
   "metadata": {},
   "outputs": [],
   "source": [
    "# XGBoost 모델 학습\n",
    "params = {\n",
    "    'objective': 'binary:logistic', \n",
    "    'eval_metric': 'auc',\n",
    "    'max_depth' : 6,\n",
    "    'booster': 'gbtree',\n",
    "    'eta': 0.05,\n",
    "    'tree_method': 'hist',\n",
    "    'device' : 'cuda',\n",
    "    'seed' : 2024\n",
    "}\n",
    "\n",
    "num_round = 30000  # 학습할 라운드 수\n",
    "bst = xgb.train(params, dtrain, num_round)"
   ]
  },
  {
   "cell_type": "code",
   "execution_count": null,
   "metadata": {},
   "outputs": [],
   "source": [
    "# XGClassifier 모델 학습\n",
    "\n",
    "from xgboost import XGBClassifier\n",
    "Cbst = XGBClassifier(\n",
    "    objective = 'binary:logistic', \n",
    "    eval_metric = \"auc\",\n",
    "    max_depth = 6,\n",
    "    booster = \"gbtree\" ,\n",
    "    eta = 0.1,\n",
    "    tree_method = \"hist\",\n",
    "    device = \"cuda\"\n",
    ")\n",
    "\n",
    "Cbst.fit(X_train, y_train)"
   ]
  },
  {
   "cell_type": "code",
   "execution_count": 25,
   "metadata": {},
   "outputs": [],
   "source": [
    "# train 전체 사용\n",
    "import xgboost as xgb\n",
    "from sklearn.metrics import accuracy_score\n",
    "\n",
    "dtrain = xgb.DMatrix(X_train_full_encoded, label=y_train_full)"
   ]
  },
  {
   "cell_type": "code",
   "execution_count": 26,
   "metadata": {},
   "outputs": [],
   "source": [
    "params = {\n",
    "    'objective': 'binary:logistic', \n",
    "    'eval_metric': 'auc',\n",
    "    'max_depth' : 6,\n",
    "    'booster': 'gbtree',\n",
    "    'eta': 0.05,\n",
    "    'tree_method': 'hist',\n",
    "    'device' : 'cuda',\n",
    "    'seed' : 2024\n",
    "}\n",
    "\n",
    "num_round = 30000  # 학습할 라운드 수\n",
    "bst = xgb.train(params, dtrain, num_round)"
   ]
  },
  {
   "cell_type": "markdown",
   "metadata": {},
   "source": [
    "###  validation"
   ]
  },
  {
   "cell_type": "code",
   "execution_count": 16,
   "metadata": {},
   "outputs": [
    {
     "name": "stdout",
     "output_type": "stream",
     "text": [
      "AUC: 0.7894\n"
     ]
    }
   ],
   "source": [
    "from sklearn.metrics import roc_auc_score\n",
    "\n",
    "# 예측한 확률과 실제 레이블을 사용하여 AUC를 계산\n",
    "y_pred_prob = bst.predict(dval)\n",
    "auc = roc_auc_score(y_val, y_pred_prob)\n",
    "print(f\"AUC: {auc:.4f}\")"
   ]
  },
  {
   "cell_type": "code",
   "execution_count": 55,
   "metadata": {},
   "outputs": [
    {
     "name": "stdout",
     "output_type": "stream",
     "text": [
      "AUC: 0.7654\n"
     ]
    }
   ],
   "source": [
    "from sklearn.metrics import roc_auc_score\n",
    "\n",
    "# 예측한 확률과 실제 레이블을 사용하여 AUC를 계산\n",
    "y_pred_prob = Cbst.predict_proba(X_val)[:, 1]\n",
    "auc = roc_auc_score(y_val, y_pred_prob)\n",
    "print(f\"AUC: {auc:.4f}\")"
   ]
  },
  {
   "cell_type": "markdown",
   "metadata": {},
   "source": [
    "(1)\n",
    "\n",
    "without sampling\n",
    "\n",
    "params = {\n",
    "    'objective': 'binary:logistic', \n",
    "    'eval_metric': 'auc',\n",
    "    'max_depth' : 6,\n",
    "    'booster': 'gbtree',\n",
    "    'eta': 0.1,\n",
    "    'tree_method': 'hist',\n",
    "    'device' : 'cuda'\n",
    "}\n",
    "\n",
    "num_round = 2000\n",
    "\n",
    "i : 100, thresold : 286053.91 -> AUC : 0.7460\n",
    "\n",
    "i : 1000, thresold : 28605.391 -> AUC : 0.7616\n",
    "\n",
    "i : 5000, thresold : 5721.0782 -> AUC : 0.7708\n",
    "\n",
    "i : 10000, thresold : 2860.5391 -> AUC : 0.7741\n",
    "\n",
    "i : 20000, thresold : 1430.26955 -> AUC : 0.7769\n",
    "\n",
    "i : 30000, thresold : 953.5130333 -> AUC : 0.7781\n",
    "\n",
    "i : 50000, thresold : 572.10782 -> AUC : 0.7798\n",
    "\n",
    "i : 100000, thresold : 286.05391 -> AUC : 0.7817\n",
    "\n",
    "i : 300000 -> AUC : 0.7846, test : 0.7799\n",
    "\n",
    "\n",
    "i : 500000 -> AUC : 0.7857, learning_rate : 0.1, iteration : 2000 test : 0.7803\n",
    "\n",
    "i : 500000 -> AUC : 0.7878, learning_rate : 0.1, iteration : 4000\n",
    "\n",
    "i : 500000 -> AUC : 0.7889, learning_rate : 0.1, iteration : 8000\n",
    "\n",
    "i : 500000 -> AUC : 0.7887, learning_rate : 0.1, iteration : 20000\n",
    "\n",
    "i : 500000 -> AUC : 0.7891, learning_rate : 0.1, iteration : 14000\n",
    "\n",
    "i : 500000 -> AUC : 0.7891, learning_rate : 0.1, iteration : 11000\n",
    "\n",
    "i : 500000 -> AUC : 0.7890, learning_rate : 0.1, iteration : 12500\n",
    "\n",
    "i : 500000 -> AUC : 0.7890, learning_rate : 0.1, iteration : 10000 test : 0.7828\n",
    "\n",
    "i : 500000 -> AUC : 0.7893, learning_rate : 0.05, iteration : 22000 test : 0.7831\n",
    "\n",
    "\n",
    "i : 500000 -> AUC : 0.7858, learning_rate : 0.05, iteration : 4000\n",
    "\n",
    "i : 500000 -> AUC : 0.7879, learning_rate : 0.05, iteration : 8000\n",
    "\n",
    "\n",
    "\n",
    "i : 5000, thresold : 5721.0782 -> AUC : 0.7704\n",
    "\n",
    "i : 10000, thresold : 2860.5391 -> AUC : 0.7736\n",
    "\n",
    "i : 20000, thresold : 1430.26955 -> AUC : 0.7763"
   ]
  },
  {
   "cell_type": "markdown",
   "metadata": {},
   "source": [
    "# XGBoost"
   ]
  },
  {
   "cell_type": "code",
   "execution_count": null,
   "metadata": {},
   "outputs": [],
   "source": [
    "## train_df에서 Click 열이 0인 행을 샘플링하여 10000000개 선택\n",
    "#click_0_samples = df_Others[df['Click'] == 0].sample(n=5569860*2, random_state=2024)\n",
    "#\n",
    "## train_df에서 Click 열이 1인 행 전체 선택\n",
    "#click_1_samples = df_Others[df['Click'] == 1].sample(n=5569860, random_state=2024)\n",
    "#\n",
    "#sampled_df = pd.concat([click_0_samples, click_1_samples])\n",
    "#sampled_df.head()"
   ]
  },
  {
   "cell_type": "code",
   "execution_count": 6,
   "metadata": {},
   "outputs": [],
   "source": [
    "# target encoding\n",
    "import category_encoders as ce\n",
    "\n",
    "X_train_full = df.drop('Click', axis=1)\n",
    "y_train_full = df['Click']\n",
    "\n",
    "\n",
    "encoder = ce.TargetEncoder(cols=list(category_columns))\n",
    "X_train_full_encoded = encoder.fit_transform(X_train_full, y_train_full)"
   ]
  },
  {
   "cell_type": "code",
   "execution_count": 7,
   "metadata": {},
   "outputs": [],
   "source": [
    "# 학습 데이터와 검증 데이터로 분할\n",
    "X_train, X_val, y_train, y_val = train_test_split(X_train_full_encoded, y_train_full, test_size=0.3, random_state=2024)"
   ]
  },
  {
   "cell_type": "code",
   "execution_count": 9,
   "metadata": {},
   "outputs": [
    {
     "name": "stdout",
     "output_type": "stream",
     "text": [
      "AUC: 0.8434\n"
     ]
    }
   ],
   "source": [
    "# Encoding without Others Processing\n",
    "\n",
    "import xgboost as xgb\n",
    "from sklearn.metrics import accuracy_score\n",
    "from sklearn.metrics import roc_auc_score\n",
    "\n",
    "dtrain = xgb.DMatrix(X_train, label=y_train,enable_categorical=True)\n",
    "dtest = xgb.DMatrix(X_val, label=y_val,enable_categorical=True)\n",
    "\n",
    "# 모델 학습\n",
    "params = {\n",
    "    'booster': 'gbtree',\n",
    "    'objective': 'binary:logistic',\n",
    "    'eval_metric': 'auc',\n",
    "    'eta': 0.3,\n",
    "    'max_depth': 6,\n",
    "    'seed': 2024,\n",
    "    'tree_method': 'hist',\n",
    "    'device' : 'cuda'\n",
    "}\n",
    "\n",
    "num_round = 100\n",
    "model = xgb.train(params,dtrain)\n",
    "y_pred_prob = model.predict(dtest)\n",
    "auc = roc_auc_score(y_val, y_pred_prob)\n",
    "print(f\"AUC: {auc:.4f}\")"
   ]
  },
  {
   "cell_type": "markdown",
   "metadata": {},
   "source": [
    "##  validation"
   ]
  },
  {
   "cell_type": "markdown",
   "metadata": {},
   "source": [
    "# Output"
   ]
  },
  {
   "cell_type": "code",
   "execution_count": 27,
   "metadata": {},
   "outputs": [],
   "source": [
    "test_df = pd.read_parquet(\"test.parquet\")\n",
    "# target encoding\n",
    "# test_df_encoded = encoder.transform(test_df)\n",
    "# dtest_encoded = xgb.DMatrix(test_df_encoded)\n",
    "# y_test_encoded = bst.predict(dtest_encoded)"
   ]
  },
  {
   "cell_type": "code",
   "execution_count": 28,
   "metadata": {},
   "outputs": [],
   "source": [
    "# others 시행시 실행\n",
    "\n",
    "# 모든 범주를 한 번에 추가\n",
    "for i in category_columns:\n",
    "    test_df[i] = test_df[i].cat.add_categories('Others')\n",
    "\n",
    "# 벡터화된 연산으로 값 비교 후 수정\n",
    "for i in category_columns:\n",
    "    mask = ~test_df[i].isin(df_Others[i].unique())\n",
    "    test_df.loc[mask, i] = 'Others'"
   ]
  },
  {
   "cell_type": "code",
   "execution_count": 29,
   "metadata": {},
   "outputs": [],
   "source": [
    "test_df_encoded = encoder.transform(test_df)"
   ]
  },
  {
   "cell_type": "code",
   "execution_count": 30,
   "metadata": {},
   "outputs": [],
   "source": [
    "dtest = xgb.DMatrix(test_df_encoded)"
   ]
  },
  {
   "cell_type": "code",
   "execution_count": 31,
   "metadata": {},
   "outputs": [],
   "source": [
    "pred = bst.predict(dtest)\n",
    "sample_submission = pd.read_csv(\"F:/학교/3학년/1학기/컴퓨터융합학부/데이터과학/term project/open/sample_submission.csv\")\n",
    "sample_submission['Click'] = pred\n",
    "sample_submission.to_csv('xgb_others_target_encoding_ths-500000_0.05-30000_FULL.csv', index=False)"
   ]
  }
 ],
 "metadata": {
  "kernelspec": {
   "display_name": "base",
   "language": "python",
   "name": "python3"
  },
  "language_info": {
   "codemirror_mode": {
    "name": "ipython",
    "version": 3
   },
   "file_extension": ".py",
   "mimetype": "text/x-python",
   "name": "python",
   "nbconvert_exporter": "python",
   "pygments_lexer": "ipython3",
   "version": "3.10.9"
  }
 },
 "nbformat": 4,
 "nbformat_minor": 2
}
